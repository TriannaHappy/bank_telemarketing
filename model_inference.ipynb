{
 "cells": [
  {
   "cell_type": "code",
   "execution_count": 16,
   "id": "ad28394e",
   "metadata": {},
   "outputs": [],
   "source": [
    "# Import Library\n",
    "\n",
    "import pickle\n",
    "import json\n",
    "import pandas as pd\n",
    "import numpy as np\n",
    "import matplotlib.pyplot as plt\n",
    "import seaborn as sns\n",
    "import warnings\n",
    "from datetime import datetime\n",
    "\n",
    "warnings.filterwarnings('ignore')"
   ]
  },
  {
   "cell_type": "code",
   "execution_count": 2,
   "id": "cc87230f",
   "metadata": {},
   "outputs": [],
   "source": [
    "# Read the Files\n",
    "\n",
    "with open('m2/imputer_num.pkl', 'rb') as file_1:\n",
    "    imputer_num=pickle.load(file_1)\n",
    "    \n",
    "with open('m2/imputer_cat1.pkl', 'rb') as file_2:\n",
    "    imputer_cat1=pickle.load(file_2)\n",
    "\n",
    "with open('m2/imputer_cat2.pkl', 'rb') as file_3:\n",
    "    imputer_cat2=pickle.load(file_3)\n",
    "    \n",
    "with open('m2/windsoriser.pkl', 'rb') as file_4:\n",
    "    windsoriser=pickle.load(file_4)\n",
    "    \n",
    "with open('m2/Stdscaler.pkl', 'rb') as file_8:\n",
    "    Stdscaler=pickle.load(file_8)\n",
    "    \n",
    "with open('m2/MMscaler.pkl', 'rb') as file_8:\n",
    "    MMscaler=pickle.load(file_8)\n",
    "\n",
    "with open('m2/RBscaler.pkl', 'rb') as file_8:\n",
    "    RBscaler=pickle.load(file_8)\n",
    "\n",
    "with open('m2/ohe_pipeline.pkl', 'rb') as file_8:\n",
    "    ohe_pipeline=pickle.load(file_8)\n",
    "    \n",
    "with open('m2/ode_pipeline.pkl', 'rb') as file_8:\n",
    "    ode_pipeline=pickle.load(file_8)\n",
    "\n",
    "with open('m2/preprocessor.pkl', 'rb') as file_9:\n",
    "    preprocessor=pickle.load(file_9)  \n",
    "    \n",
    "with open('m2/logreg_pipe.pkl', 'rb') as file_9:\n",
    "    logreg_pipe=pickle.load(file_9)  \n",
    "    \n",
    "\n",
    "with open('m2/num_cols.txt', 'r') as file_5:\n",
    "    num_cols=json.load(file_5)\n",
    "\n",
    "with open('m2/nom_cat_cols.txt','r') as file_6: \n",
    "    nom_cat_cols=json.load(file_6)\n",
    "    \n",
    "with open('m2/ord_cat_cols.txt', 'r') as file_7:\n",
    "    ord_cat_cols=json.load(file_7) \n",
    "    \n",
    "with open('m2/num_cols_norm.txt', 'r') as file_5:\n",
    "    num_cols_norm=json.load(file_5)\n",
    "\n",
    "with open('m2/num_cols_skew.txt','r') as file_6: \n",
    "    num_cols_skew=json.load(file_6)\n",
    "    \n",
    "with open('m2/num_cols_rob.txt', 'r') as file_7:\n",
    "    num_cols_rob=json.load(file_7)\n",
    "    \n"
   ]
  },
  {
   "cell_type": "code",
   "execution_count": 40,
   "id": "4e3cf747",
   "metadata": {},
   "outputs": [
    {
     "name": "stdout",
     "output_type": "stream",
     "text": [
      "<class 'pandas.core.frame.DataFrame'>\n",
      "RangeIndex: 1 entries, 0 to 0\n",
      "Data columns (total 16 columns):\n",
      " #   Column     Non-Null Count  Dtype \n",
      "---  ------     --------------  ----- \n",
      " 0   age        1 non-null      int64 \n",
      " 1   job        1 non-null      object\n",
      " 2   marital    1 non-null      object\n",
      " 3   education  1 non-null      object\n",
      " 4   default    1 non-null      object\n",
      " 5   balance    1 non-null      int64 \n",
      " 6   housing    1 non-null      object\n",
      " 7   loan       1 non-null      object\n",
      " 8   contact    1 non-null      object\n",
      " 9   day        1 non-null      int64 \n",
      " 10  month      1 non-null      object\n",
      " 11  duration   1 non-null      int64 \n",
      " 12  campaign   1 non-null      int64 \n",
      " 13  pdays      1 non-null      int64 \n",
      " 14  previous   1 non-null      int64 \n",
      " 15  poutcome   1 non-null      object\n",
      "dtypes: int64(7), object(9)\n",
      "memory usage: 256.0+ bytes\n"
     ]
    }
   ],
   "source": [
    "# Data loading\n",
    "df=pd.read_csv('m2/data_inf.csv')\n",
    "df.pop(df.columns.values[0])\n",
    "df.info()"
   ]
  },
  {
   "cell_type": "code",
   "execution_count": 41,
   "id": "683fbe3b",
   "metadata": {},
   "outputs": [
    {
     "data": {
      "text/html": [
       "<div>\n",
       "<style scoped>\n",
       "    .dataframe tbody tr th:only-of-type {\n",
       "        vertical-align: middle;\n",
       "    }\n",
       "\n",
       "    .dataframe tbody tr th {\n",
       "        vertical-align: top;\n",
       "    }\n",
       "\n",
       "    .dataframe thead th {\n",
       "        text-align: right;\n",
       "    }\n",
       "</style>\n",
       "<table border=\"1\" class=\"dataframe\">\n",
       "  <thead>\n",
       "    <tr style=\"text-align: right;\">\n",
       "      <th></th>\n",
       "      <th>age</th>\n",
       "      <th>job</th>\n",
       "      <th>marital</th>\n",
       "      <th>education</th>\n",
       "      <th>default</th>\n",
       "      <th>balance</th>\n",
       "      <th>housing</th>\n",
       "      <th>loan</th>\n",
       "      <th>contact</th>\n",
       "      <th>day</th>\n",
       "      <th>month</th>\n",
       "      <th>duration</th>\n",
       "      <th>campaign</th>\n",
       "      <th>pdays</th>\n",
       "      <th>previous</th>\n",
       "      <th>poutcome</th>\n",
       "    </tr>\n",
       "  </thead>\n",
       "  <tbody>\n",
       "    <tr>\n",
       "      <th>0</th>\n",
       "      <td>55</td>\n",
       "      <td>retired</td>\n",
       "      <td>married</td>\n",
       "      <td>secondary</td>\n",
       "      <td>no</td>\n",
       "      <td>2312</td>\n",
       "      <td>no</td>\n",
       "      <td>no</td>\n",
       "      <td>unknown</td>\n",
       "      <td>12</td>\n",
       "      <td>jun</td>\n",
       "      <td>60</td>\n",
       "      <td>1</td>\n",
       "      <td>-1</td>\n",
       "      <td>0</td>\n",
       "      <td>unknown</td>\n",
       "    </tr>\n",
       "  </tbody>\n",
       "</table>\n",
       "</div>"
      ],
      "text/plain": [
       "   age      job  marital  education default  balance housing loan  contact  \\\n",
       "0   55  retired  married  secondary      no     2312      no   no  unknown   \n",
       "\n",
       "   day month  duration  campaign  pdays  previous poutcome  \n",
       "0   12   jun        60         1     -1         0  unknown  "
      ]
     },
     "execution_count": 41,
     "metadata": {},
     "output_type": "execute_result"
    }
   ],
   "source": [
    "df"
   ]
  },
  {
   "cell_type": "code",
   "execution_count": 42,
   "id": "53e13eca",
   "metadata": {},
   "outputs": [
    {
     "name": "stdout",
     "output_type": "stream",
     "text": [
      "Job Category : ['retired']\n"
     ]
    }
   ],
   "source": [
    "# categorize the education by the level of education\n",
    "job_cat=[]\n",
    "for i in range (df.shape[0]):    \n",
    "    if ((df['job'][i] == \"blue-collar\") | (df['job'][i] == \"technician\")):\n",
    "        job_cat.append('blue_collar')\n",
    "    elif ((df['job'][i] == \"management\") | (df['job'][i] == \"admin.\")):\n",
    "        job_cat.append('white_collar')\n",
    "    elif ((df['job'][i] == 'unemployed')| (df['job'][i] == 'student')):\n",
    "        job_cat.append(\"unemployed\")\n",
    "    else:\n",
    "        job_cat.append(df['job'][i])\n",
    "df['job_cat']=job_cat\n",
    "print (\"Job Category :\",df['job_cat'].unique())"
   ]
  },
  {
   "cell_type": "code",
   "execution_count": 43,
   "id": "189d0563",
   "metadata": {},
   "outputs": [],
   "source": [
    "# Labelling the month into month_num\n",
    "df['month_num'] = df['month'].apply(lambda x: datetime.strptime(x, '%b').month)"
   ]
  },
  {
   "cell_type": "code",
   "execution_count": 44,
   "id": "75591f92",
   "metadata": {},
   "outputs": [
    {
     "name": "stdout",
     "output_type": "stream",
     "text": [
      "Month Categpry : ['active']\n",
      "Count of Unique Values : 1\n"
     ]
    }
   ],
   "source": [
    "# categorize the education by the level of education\n",
    "active_month=[]\n",
    "for i in range (df.shape[0]):    \n",
    "    if (df['month_num'][i] in [1,2,4,6,7,8]):\n",
    "        active_month.append('active')\n",
    "    elif df['month_num'][i]==5:\n",
    "        active_month.append('most_active')\n",
    "    else:\n",
    "        active_month.append('less_active')\n",
    "df['active_month']=active_month\n",
    "print (\"Month Categpry :\",df['active_month'].unique())\n",
    "print (\"Count of Unique Values :\",df['active_month'].nunique())"
   ]
  },
  {
   "cell_type": "code",
   "execution_count": 45,
   "id": "1138b75a",
   "metadata": {},
   "outputs": [
    {
     "data": {
      "text/html": [
       "<div>\n",
       "<style scoped>\n",
       "    .dataframe tbody tr th:only-of-type {\n",
       "        vertical-align: middle;\n",
       "    }\n",
       "\n",
       "    .dataframe tbody tr th {\n",
       "        vertical-align: top;\n",
       "    }\n",
       "\n",
       "    .dataframe thead th {\n",
       "        text-align: right;\n",
       "    }\n",
       "</style>\n",
       "<table border=\"1\" class=\"dataframe\">\n",
       "  <thead>\n",
       "    <tr style=\"text-align: right;\">\n",
       "      <th></th>\n",
       "      <th>age</th>\n",
       "      <th>marital</th>\n",
       "      <th>education</th>\n",
       "      <th>default</th>\n",
       "      <th>balance</th>\n",
       "      <th>housing</th>\n",
       "      <th>loan</th>\n",
       "      <th>day</th>\n",
       "      <th>duration</th>\n",
       "      <th>campaign</th>\n",
       "      <th>pdays</th>\n",
       "      <th>previous</th>\n",
       "      <th>job_cat</th>\n",
       "      <th>month_num</th>\n",
       "      <th>active_month</th>\n",
       "    </tr>\n",
       "  </thead>\n",
       "  <tbody>\n",
       "    <tr>\n",
       "      <th>0</th>\n",
       "      <td>55</td>\n",
       "      <td>married</td>\n",
       "      <td>secondary</td>\n",
       "      <td>no</td>\n",
       "      <td>2312</td>\n",
       "      <td>no</td>\n",
       "      <td>no</td>\n",
       "      <td>12</td>\n",
       "      <td>60</td>\n",
       "      <td>1</td>\n",
       "      <td>-1</td>\n",
       "      <td>0</td>\n",
       "      <td>retired</td>\n",
       "      <td>6</td>\n",
       "      <td>active</td>\n",
       "    </tr>\n",
       "  </tbody>\n",
       "</table>\n",
       "</div>"
      ],
      "text/plain": [
       "   age  marital  education default  balance housing loan  day  duration  \\\n",
       "0   55  married  secondary      no     2312      no   no   12        60   \n",
       "\n",
       "   campaign  pdays  previous  job_cat  month_num active_month  \n",
       "0         1     -1         0  retired          6       active  "
      ]
     },
     "execution_count": 45,
     "metadata": {},
     "output_type": "execute_result"
    }
   ],
   "source": [
    "# Feature Selection\n",
    "X_test = df.drop(['job', 'month', 'contact', 'poutcome'], axis=1)\n",
    "X_test"
   ]
  },
  {
   "cell_type": "code",
   "execution_count": 46,
   "id": "2fae0bad",
   "metadata": {},
   "outputs": [],
   "source": [
    "# Split the X based on the column type\n",
    "X_test_num = X_test[num_cols]\n",
    "X_test_cat_nom = X_test[nom_cat_cols]\n",
    "X_test_cat_ord = X_test[ord_cat_cols]"
   ]
  },
  {
   "cell_type": "code",
   "execution_count": 47,
   "id": "405e2d99",
   "metadata": {},
   "outputs": [],
   "source": [
    "# Impute missing value in test data\n",
    "# Index ter-reset\n",
    "X_test_num=pd.DataFrame(imputer_num.transform(X_test_num), columns=X_test_num.columns.values)\n",
    "X_test_cat_nom=pd.DataFrame(imputer_cat1.transform(X_test_cat_nom), columns=X_test_cat_nom.columns.values)\n",
    "X_test_cat_ord=pd.DataFrame(imputer_cat2.transform(X_test_cat_ord), columns=X_test_cat_ord.columns.values)"
   ]
  },
  {
   "cell_type": "code",
   "execution_count": 48,
   "id": "ea0a8ce8",
   "metadata": {},
   "outputs": [],
   "source": [
    "# Handling Outlier\n",
    "X_test_num_capped = windsoriser.transform(X_test_num)"
   ]
  },
  {
   "cell_type": "code",
   "execution_count": 49,
   "id": "2eef1e8d",
   "metadata": {},
   "outputs": [],
   "source": [
    "# Define the numerical columns\n",
    "X_test_num_norm = X_test_num_capped[num_cols_norm]\n",
    "X_test_num_skew = X_test_num_capped[num_cols_skew]\n",
    "X_test_num_rob = X_test_num_capped[num_cols_rob]"
   ]
  },
  {
   "cell_type": "code",
   "execution_count": 50,
   "id": "b4c79342",
   "metadata": {},
   "outputs": [],
   "source": [
    "#Transform the numerical test data\n",
    "X_test_num_norm_scaled = pd.DataFrame(Stdscaler.transform(X_test_num_norm), columns=num_cols_norm)\n",
    "X_test_num_skew_scaled = pd.DataFrame(MMscaler.transform(X_test_num_skew), columns=num_cols_skew)\n",
    "X_test_num_rob_scaled = pd.DataFrame(RBscaler.transform(X_test_num_rob), columns=num_cols_rob)"
   ]
  },
  {
   "cell_type": "code",
   "execution_count": 51,
   "id": "b813ecb8",
   "metadata": {},
   "outputs": [
    {
     "data": {
      "text/plain": [
       "day             0.0\n",
       "age             0.0\n",
       "balance         0.0\n",
       "duration        0.0\n",
       "campaign        0.0\n",
       "pdays           0.0\n",
       "previous        0.0\n",
       "marital         0.0\n",
       "job_cat         0.0\n",
       "education       0.0\n",
       "default         0.0\n",
       "housing         0.0\n",
       "loan            0.0\n",
       "active_month    0.0\n",
       "dtype: float64"
      ]
     },
     "execution_count": 51,
     "metadata": {},
     "output_type": "execute_result"
    }
   ],
   "source": [
    "# Concate the imbalance X data\n",
    "X_test_imbalanced=pd.concat([X_test_num_norm_scaled,X_test_num_skew_scaled,X_test_num_rob_scaled,\n",
    "                             X_test_cat_nom, X_test_cat_ord], axis=1)\n",
    "X_test_imbalanced.isnull().mean()"
   ]
  },
  {
   "cell_type": "code",
   "execution_count": 52,
   "id": "ea6ccaaf",
   "metadata": {},
   "outputs": [
    {
     "data": {
      "text/plain": [
       "array([0], dtype=int64)"
      ]
     },
     "execution_count": 52,
     "metadata": {},
     "output_type": "execute_result"
    }
   ],
   "source": [
    "# Predict the target\n",
    "y_pred_test_logreg_pipe = logreg_pipe.predict(X_test_imbalanced)\n",
    "y_pred_test_logreg_pipe"
   ]
  },
  {
   "cell_type": "markdown",
   "id": "fed0cc7f",
   "metadata": {},
   "source": [
    "Berdasarkan model inference, diprediksikan di data baru ini, nasabah tidak berlangganan deposito sehingga tidak akan dijadikan target telemarketing."
   ]
  }
 ],
 "metadata": {
  "kernelspec": {
   "display_name": "Python 3 (ipykernel)",
   "language": "python",
   "name": "python3"
  },
  "language_info": {
   "codemirror_mode": {
    "name": "ipython",
    "version": 3
   },
   "file_extension": ".py",
   "mimetype": "text/x-python",
   "name": "python",
   "nbconvert_exporter": "python",
   "pygments_lexer": "ipython3",
   "version": "3.9.13"
  }
 },
 "nbformat": 4,
 "nbformat_minor": 5
}
